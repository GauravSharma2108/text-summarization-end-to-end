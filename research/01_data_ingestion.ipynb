{
 "cells": [
  {
   "cell_type": "code",
   "execution_count": 1,
   "metadata": {},
   "outputs": [],
   "source": [
    "import os"
   ]
  },
  {
   "cell_type": "code",
   "execution_count": 2,
   "metadata": {},
   "outputs": [
    {
     "data": {
      "text/plain": [
       "'/Users/psykick/Documents/learning/github/text-summarization-end-to-end/research'"
      ]
     },
     "execution_count": 2,
     "metadata": {},
     "output_type": "execute_result"
    }
   ],
   "source": [
    "os.getcwd()"
   ]
  },
  {
   "cell_type": "code",
   "execution_count": 3,
   "metadata": {},
   "outputs": [],
   "source": [
    "os.chdir('..')"
   ]
  },
  {
   "cell_type": "code",
   "execution_count": 5,
   "metadata": {},
   "outputs": [],
   "source": [
    "from dataclasses import dataclass\n",
    "from pathlib import Path\n",
    "\n",
    "# this class will serve as a datatype for the data ingestion configuration\n",
    "@dataclass(frozen=True)\n",
    "class DataIngestionConfig:\n",
    "    \"\"\"\n",
    "    DataIngestionConfig class is used to store the configuration for the data ingestion process.\n",
    "    \"\"\"\n",
    "    root_dir: Path\n",
    "    source_url: str\n",
    "    local_data_file: Path\n",
    "    unzip_dir: Path\n"
   ]
  },
  {
   "cell_type": "code",
   "execution_count": 6,
   "metadata": {},
   "outputs": [],
   "source": [
    "from text_summarization.constants import *\n",
    "from text_summarization.utils.common import read_yaml, create_directories"
   ]
  },
  {
   "cell_type": "code",
   "execution_count": 13,
   "metadata": {},
   "outputs": [],
   "source": [
    "class ConfigurationManager:\n",
    "    \"\"\"\n",
    "    Configuration Manager class to read the configuration and parameters files for each module\n",
    "    \"\"\"\n",
    "    def __init__(\n",
    "            self,\n",
    "            config_filepath = CONFIG_FILE_PATH,\n",
    "            params_filepath = PARAMS_FILE_PATH\n",
    "    ):\n",
    "        \"\"\"Constructor\n",
    "        \n",
    "        Args:\n",
    "            config_filepath (_type_, optional): path to the configuration file. Defaults to CONFIG_FILE_PATH.\n",
    "            params_filepath (_type_, optional): path to the parameters file. Defaults to PARAMS_FILE_PATH.\n",
    "        \"\"\"\n",
    "        self.config = read_yaml(config_filepath)\n",
    "        self.params = read_yaml(params_filepath)\n",
    "        create_directories([self.config.artifacts_root])\n",
    "    \n",
    "    def get_data_ingestion_config(self)->DataIngestionConfig:\n",
    "        \"\"\"Get the data ingestion configuration\n",
    "\n",
    "        Returns:\n",
    "            DataIngestionConfig: data ingestion configuration\n",
    "        \"\"\"\n",
    "        config = self.config.data_ingestion\n",
    "        create_directories([config.root_dir])\n",
    "        return DataIngestionConfig(\n",
    "            root_dir = Path(config.root_dir),\n",
    "            source_url = config.source_url,\n",
    "            local_data_file = Path(config.local_data_file),\n",
    "            unzip_dir = Path(config.unzip_dir)\n",
    "        )"
   ]
  },
  {
   "cell_type": "code",
   "execution_count": 14,
   "metadata": {},
   "outputs": [],
   "source": [
    "import os\n",
    "import urllib.request as request\n",
    "import zipfile\n",
    "from text_summarization.logging import logger\n",
    "from text_summarization.utils.common import get_size"
   ]
  },
  {
   "cell_type": "code",
   "execution_count": 15,
   "metadata": {},
   "outputs": [],
   "source": [
    "class DataIngestion:\n",
    "    \"\"\"\n",
    "    This class is responsible for downloading and extracting the data from the source URL\n",
    "    \"\"\"\n",
    "    def __init__(self, config: DataIngestionConfig):\n",
    "        \"\"\"Initializes the DataIngestion class\n",
    "\n",
    "        Args:\n",
    "            config (DataIngestionConfig): DataIngestionConfig object\n",
    "        \"\"\"\n",
    "        self.config = config\n",
    "    \n",
    "    def download_file(self):\n",
    "        \"\"\"\n",
    "        Downloads the file from the source URL if it doesn't exist\n",
    "        \"\"\"\n",
    "        if not os.path.exists(self.config.local_data_file):\n",
    "            filename, headers = request.urlretrieve(\n",
    "                url = self.config.source_url,\n",
    "                filename = self.config.local_data_file\n",
    "            )\n",
    "            logger.info(f\"Downloaded file: {filename} with info:\\n{headers}\")\n",
    "        else:\n",
    "            logger.info(f\"File already exists: {self.config.local_data_file}\\nSize: {get_size(self.config.local_data_file)}\")\n",
    "    \n",
    "    def extract_zip_file(self):\n",
    "        \"\"\"\n",
    "        Extracts the zip file to the specified directory\n",
    "        \"\"\"\n",
    "        unzip_path = self.config.unzip_dir\n",
    "        os.makedirs(unzip_path, exist_ok=True)\n",
    "        with zipfile.ZipFile(self.config.local_data_file, 'r') as zip_ref:\n",
    "            zip_ref.extractall(unzip_path)"
   ]
  },
  {
   "cell_type": "code",
   "execution_count": 16,
   "metadata": {},
   "outputs": [
    {
     "name": "stdout",
     "output_type": "stream",
     "text": [
      "[2024-04-14 15:20:18,635] [INFO] [common] [common.py:24] yaml file: config/config.yaml loaded successfully\n",
      "[2024-04-14 15:20:18,636] [INFO] [common] [common.py:24] yaml file: params.yaml loaded successfully\n",
      "[2024-04-14 15:20:18,637] [INFO] [common] [common.py:40] created directory at: artifacts\n",
      "[2024-04-14 15:20:18,637] [INFO] [common] [common.py:40] created directory at: artifacts/data_ingestion\n",
      "[2024-04-14 15:20:20,599] [INFO] [161847061] [161847061.py:11] Downloaded file: artifacts/data_ingestion/data.zip with info:\n",
      "Connection: close\n",
      "Content-Length: 7903594\n",
      "Cache-Control: max-age=300\n",
      "Content-Security-Policy: default-src 'none'; style-src 'unsafe-inline'; sandbox\n",
      "Content-Type: application/zip\n",
      "ETag: \"dbc016a060da18070593b83afff580c9b300f0b6ea4147a7988433e04df246ca\"\n",
      "Strict-Transport-Security: max-age=31536000\n",
      "X-Content-Type-Options: nosniff\n",
      "X-Frame-Options: deny\n",
      "X-XSS-Protection: 1; mode=block\n",
      "X-GitHub-Request-Id: 3084:354996:1BF0B5:25A026:661BA6DB\n",
      "Accept-Ranges: bytes\n",
      "Date: Sun, 14 Apr 2024 09:50:20 GMT\n",
      "Via: 1.1 varnish\n",
      "X-Served-By: cache-bom4740-BOM\n",
      "X-Cache: MISS\n",
      "X-Cache-Hits: 0\n",
      "X-Timer: S1713088219.341130,VS0,VE673\n",
      "Vary: Authorization,Accept-Encoding,Origin\n",
      "Access-Control-Allow-Origin: *\n",
      "Cross-Origin-Resource-Policy: cross-origin\n",
      "X-Fastly-Request-ID: d968e43e69910ccfb59f21d35c938a52ad885c57\n",
      "Expires: Sun, 14 Apr 2024 09:55:20 GMT\n",
      "Source-Age: 0\n",
      "\n",
      "\n"
     ]
    }
   ],
   "source": [
    "# data ingestion pipeline\n",
    "try:\n",
    "    config = ConfigurationManager()\n",
    "    data_ingestion_config = config.get_data_ingestion_config()\n",
    "    data_ingestion = DataIngestion(data_ingestion_config)\n",
    "    data_ingestion.download_file()\n",
    "    data_ingestion.extract_zip_file()\n",
    "except Exception as e:\n",
    "    logger.error(f\"Data Ingestion failed: {str(e)}\")\n",
    "    raise e"
   ]
  },
  {
   "cell_type": "code",
   "execution_count": null,
   "metadata": {},
   "outputs": [],
   "source": []
  }
 ],
 "metadata": {
  "kernelspec": {
   "display_name": "Python 3",
   "language": "python",
   "name": "python3"
  },
  "language_info": {
   "codemirror_mode": {
    "name": "ipython",
    "version": 3
   },
   "file_extension": ".py",
   "mimetype": "text/x-python",
   "name": "python",
   "nbconvert_exporter": "python",
   "pygments_lexer": "ipython3",
   "version": "3.11.8"
  }
 },
 "nbformat": 4,
 "nbformat_minor": 2
}
